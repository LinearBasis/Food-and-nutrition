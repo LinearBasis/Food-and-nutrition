{
 "cells": [
  {
   "cell_type": "code",
   "execution_count": 8,
   "id": "fc8847a1",
   "metadata": {},
   "outputs": [],
   "source": [
    "import pandas as pd\n",
    "import numpy as np\n",
    "import requests\n",
    "import json"
   ]
  },
  {
   "cell_type": "code",
   "execution_count": 11,
   "id": "e0e0b8fc",
   "metadata": {},
   "outputs": [],
   "source": [
    "df = pd.read_csv(\"epi_r.csv\")\n",
    "df_nutr_one = pd.read_csv(\"../../Nutrition-recommendations/data/Nutrients.csv\")\n",
    "df_nutr_two = pd.read_csv(\"../../Nutrition-recommendations/data/food_components.csv\")\n",
    "df_nutr = pd.concat([df_nutr_one, df_nutr_two], axis = 0, ignore_index=True)"
   ]
  },
  {
   "cell_type": "code",
   "execution_count": 15,
   "id": "0bdb87b0",
   "metadata": {},
   "outputs": [],
   "source": [
    "class NutruientParser:\n",
    "    def __init__(self, product_name):\n",
    "        self.product_name = product_name\n",
    "\n",
    "        self.r = requests.get(\n",
    "            f\"https://api.nal.usda.gov/fdc/v1/foods/search?api_key=O9O8y67XB59UcnngfKt1eP4yX7Vm0ro7N66HxQtm&query={product_name}\", verify = False\n",
    "        )\n",
    "        self.json_data = self.r.json()\n",
    "        \n",
    "    def parse_product(self, name_of_micro):\n",
    "        if self.json_data.get('foods') is None:\n",
    "            return None\n",
    "        for index in range(len(self.json_data[\"foods\"])):\n",
    "            num = 0\n",
    "            tmp = 0\n",
    "            for i in self.json_data[\"foods\"][index][\"foodNutrients\"]:\n",
    "                if name_of_micro in i[\"nutrientName\"]:\n",
    "                    num += 1\n",
    "                    tmp += i['value']\n",
    "        if num == 0:\n",
    "            return 0\n",
    "        return(tmp / num)\n",
    "    \n",
    "    def parse_nutricious_values_per_product(self):\n",
    "        df = pd.Series(dtype=float)\n",
    "        for name in df_nutr[\"Nutrient\"]:\n",
    "            mean = self.parse_product(name)\n",
    "            if mean is None:\n",
    "                return None\n",
    "            df[name] = mean\n",
    "        return(df)\n"
   ]
  },
  {
   "cell_type": "code",
   "execution_count": 22,
   "id": "55c2123f",
   "metadata": {},
   "outputs": [
    {
     "name": "stderr",
     "output_type": "stream",
     "text": [
      "/usr/lib/python3/dist-packages/urllib3/connectionpool.py:999: InsecureRequestWarning: Unverified HTTPS request is being made to host 'api.nal.usda.gov'. Adding certificate verification is strongly advised. See: https://urllib3.readthedocs.io/en/latest/advanced-usage.html#ssl-warnings\n",
      "  warnings.warn(\n"
     ]
    },
    {
     "data": {
      "text/plain": [
       "Vitamin A                0.00\n",
       "Vitamin C                0.00\n",
       "Calcium                  0.00\n",
       "Iron                     0.00\n",
       "Vitamin D                0.00\n",
       "Vitamin E                0.00\n",
       "Vitamin K                0.00\n",
       "Thiamin                  0.00\n",
       "Riboflavin               0.00\n",
       "Niacin                   0.00\n",
       "Vitamin B-6              0.00\n",
       "Folate                   0.00\n",
       "Vitamin B-12             0.00\n",
       "Pantothenic acid         0.00\n",
       "Phosphorus               0.00\n",
       "Zinc                     0.00\n",
       "Selenium                 0.00\n",
       "Copper                   0.00\n",
       "Manganese                0.00\n",
       "Potassium                0.00\n",
       "Choline                  0.00\n",
       "Protein                  2.63\n",
       "Fat                      7.90\n",
       "Saturated fat            0.00\n",
       "Cholesterol             66.00\n",
       "Total carbohydrates      0.00\n",
       "Sodium                 500.00\n",
       "Dietary Fiber            0.00\n",
       "Added Sugars             0.00\n",
       "dtype: float64"
      ]
     },
     "execution_count": 22,
     "metadata": {},
     "output_type": "execute_result"
    }
   ],
   "source": [
    "parser = NutruientParser(\"ab\")\n",
    "parser.parse_nutricious_values_per_product()"
   ]
  },
  {
   "cell_type": "code",
   "execution_count": null,
   "id": "3b64520f",
   "metadata": {},
   "outputs": [],
   "source": []
  },
  {
   "cell_type": "code",
   "execution_count": null,
   "id": "cabd2dfe",
   "metadata": {},
   "outputs": [],
   "source": []
  },
  {
   "cell_type": "code",
   "execution_count": null,
   "id": "ef2e96cb",
   "metadata": {},
   "outputs": [],
   "source": []
  }
 ],
 "metadata": {
  "kernelspec": {
   "display_name": "Python 3 (ipykernel)",
   "language": "python",
   "name": "python3"
  },
  "language_info": {
   "codemirror_mode": {
    "name": "ipython",
    "version": 3
   },
   "file_extension": ".py",
   "mimetype": "text/x-python",
   "name": "python",
   "nbconvert_exporter": "python",
   "pygments_lexer": "ipython3",
   "version": "3.8.10"
  }
 },
 "nbformat": 4,
 "nbformat_minor": 5
}
